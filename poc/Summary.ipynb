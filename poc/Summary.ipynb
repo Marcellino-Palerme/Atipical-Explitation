{
 "cells": [
  {
   "cell_type": "markdown",
   "id": "88ac7caa-858f-4b39-aed6-9e8bf6bdc0c3",
   "metadata": {},
   "source": [
    "# Summary\n",
    "\n",
    "## Hendrix n Gimp \n",
    "_Hendricks and Gimpel_\n",
    "\n",
    "1. [Prepare data](HnG/HnG_prepa.ipynb)\n",
    "2. [Create and fit model](HnG/HnG_model.ipynb)\n",
    "3. [Determinate threshold](HnG/HnG_threshold.ipynb)\n",
    "4. [Evaluate](HnG/HnG_eval.ipynb)\n",
    "\n",
    "\n",
    "\n",
    "\n"
   ]
  }
 ],
 "metadata": {
  "kernelspec": {
   "display_name": "Python 3 (ipykernel)",
   "language": "python",
   "name": "python3"
  },
  "language_info": {
   "codemirror_mode": {
    "name": "ipython",
    "version": 3
   },
   "file_extension": ".py",
   "mimetype": "text/x-python",
   "name": "python",
   "nbconvert_exporter": "python",
   "pygments_lexer": "ipython3",
   "version": "3.8.10"
  },
  "toc-autonumbering": true,
  "toc-showcode": true,
  "toc-showmarkdowntxt": true,
  "toc-showtags": false
 },
 "nbformat": 4,
 "nbformat_minor": 5
}
