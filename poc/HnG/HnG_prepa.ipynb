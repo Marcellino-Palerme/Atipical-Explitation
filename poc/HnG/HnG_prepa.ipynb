{
 "cells": [
  {
   "cell_type": "markdown",
   "id": "731480ab-dbc5-4381-bb19-2667b3944e72",
   "metadata": {},
   "source": [
    "# Hendricks and Gimpel - Prepare data\n",
    "\n",
    "Own dataset composed 7 classes (Alt, Big, Mac, Mil, Myc, Pse, Syl). Each class is divide two typical (in) and atypical (out).\n",
    "\n",
    "> **Question**  \n",
    "> Can it divide Symptomless class in typical and atypical ?\n",
    "\n",
    "To use Hendricks and Gimpel (HnG), we need to devide the dataset in 4 parts:\n",
    "1. Train: 50% of in\n",
    "2. Validation: 20% of in\n",
    "3. threshold: 20% of in and 80% of out\n",
    "4. Test: 10% of in and 20% of out"
   ]
  },
  {
   "cell_type": "markdown",
   "id": "fae140bf-d702-4fbf-bdf3-39f5e985cef6",
   "metadata": {},
   "source": [
    "## 1. Initialization and load"
   ]
  },
  {
   "cell_type": "code",
   "execution_count": 1,
   "id": "ff71dd23-e170-4855-8f70-9db6b7336213",
   "metadata": {},
   "outputs": [
    {
     "name": "stdout",
     "output_type": "stream",
     "text": [
      "['/home/mpalerme/Documents/atipical-exploi/poc/HnG', '/usr/local/lib/python38.zip', '/usr/local/lib/python3.8', '/usr/local/lib/python3.8/lib-dynload', '', '/home/mpalerme/Documents/atipical-exploi/ENV/lib/python3.8/site-packages', '/home/mpalerme/Documents/atipical-exploi/ENV/lib/python3.8/site-packages/IPython/extensions', '/home/mpalerme/.ipython', '../../structuration/python']\n"
     ]
    }
   ],
   "source": [
    "# Add directory to load personal module\n",
    "import sys\n",
    "sys.path.append('../../structuration/python')\n",
    "print(sys.path)\n",
    "\n",
    "import os\n",
    "import numpy as np\n",
    "import glob\n",
    "import pandas as pd\n",
    "# Load module to create clusters of data\n",
    "import prepare_data as pdata\n",
    "# Module to manipulate directory\n",
    "import tools_file as tsf\n",
    "# Function to split data\n",
    "from sklearn.model_selection import StratifiedShuffleSplit as sss"
   ]
  },
  {
   "cell_type": "code",
   "execution_count": 2,
   "id": "4a87896f-5470-43c4-b276-11b71d9ffec9",
   "metadata": {},
   "outputs": [],
   "source": [
    "# define path where find images\n",
    "t_image_path = '/mnt/stockage/dataset_atipical_resize/'\n",
    "at_image_path = '/mnt/stockage/'\n",
    "\n",
    "# Directory names of parts\n",
    "PARTS = (\"train\", \"val\", \"thres\", \"test\")"
   ]
  },
  {
   "cell_type": "markdown",
   "id": "7dd33e36-1b77-4b34-939e-ef86a4c467c6",
   "metadata": {},
   "source": [
    "## 2. Split data\n",
    "We distribute images in 4 directories"
   ]
  },
  {
   "cell_type": "code",
   "execution_count": 3,
   "id": "b36814b7-df90-4927-8f28-0fb1e74dab08",
   "metadata": {},
   "outputs": [
    {
     "name": "stdout",
     "output_type": "stream",
     "text": [
      "label: Myc\n",
      "total files: 768\n",
      "train: 384 images is 0.5%\n",
      "val: 153 images is 0.19921875%\n",
      "thres: 154 images is 0.20052083333333334%\n",
      "test: 77 images is 0.10026041666666667%\n",
      "label: Mil\n",
      "total files: 100\n",
      "train: 50 images is 0.5%\n",
      "val: 20 images is 0.2%\n",
      "thres: 20 images is 0.2%\n",
      "test: 10 images is 0.1%\n",
      "label: Big\n",
      "total files: 665\n",
      "train: 332 images is 0.4992481203007519%\n",
      "val: 133 images is 0.2%\n",
      "thres: 133 images is 0.2%\n",
      "test: 67 images is 0.10075187969924812%\n",
      "label: Pse\n",
      "total files: 780\n",
      "train: 390 images is 0.5%\n",
      "val: 156 images is 0.2%\n",
      "thres: 156 images is 0.2%\n",
      "test: 78 images is 0.1%\n",
      "label: Syl\n",
      "total files: 857\n",
      "train: 428 images is 0.49941656942823803%\n",
      "val: 171 images is 0.19953325554259044%\n",
      "thres: 172 images is 0.20070011668611434%\n",
      "test: 86 images is 0.10035005834305717%\n",
      "label: Alt\n",
      "total files: 988\n",
      "train: 494 images is 0.5%\n",
      "val: 197 images is 0.19939271255060728%\n",
      "thres: 198 images is 0.20040485829959515%\n",
      "test: 99 images is 0.10020242914979757%\n",
      "label: Mac\n",
      "total files: 750\n",
      "train: 375 images is 0.5%\n",
      "val: 150 images is 0.2%\n",
      "thres: 150 images is 0.2%\n",
      "test: 75 images is 0.1%\n"
     ]
    }
   ],
   "source": [
    "def distribute(dir_in, splits=(0.5, 0.2, 0.2, 0.1)):\n",
    "    \"\"\"\n",
    "    To distribute images in 4 directories (train, val, thres, test)\n",
    "\n",
    "    Parameters\n",
    "    ----------\n",
    "    dir_in : str\n",
    "        Directory where each label type image in a directory.\n",
    "\n",
    "    splits : tupple\n",
    "        ratio of dataset in each directory.\n",
    "\n",
    "    Returns\n",
    "    -------\n",
    "    None\n",
    "    \"\"\"\n",
    "    # Take absolue path of input directory\n",
    "    abs_dir_in = os.path.abspath(os.path.expanduser(dir_in))\n",
    "\n",
    "    # Get all elements in input directory\n",
    "    all_elemt = glob.glob(os.path.join(abs_dir_in, '*'))\n",
    "\n",
    "    # Get all directories of input directory\n",
    "    all_dir = [x for x in all_elemt if os.path.isdir(x)]\n",
    "\n",
    "    # Get all images name with label\n",
    "    for one_dir in all_dir:\n",
    "        # Extract label\n",
    "        label = os.path.basename(one_dir)\n",
    "        print(\"label: \" + label) \n",
    "        # Get all file names\n",
    "        all_files = glob.glob(os.path.join(one_dir, 'recto', '*.*'))\n",
    "        # Create dictionary\n",
    "        tmp = {'image': all_files, 'label': [label] * len(all_files)}\n",
    "        print('total files: ' + str(len(all_files)))\n",
    "        # Transform dictionary in dataframe\n",
    "        tmp = pd.DataFrame(tmp)\n",
    "        \n",
    "        # Define distribution\n",
    "        distri = pdata.split(splits, tmp)\n",
    "        \n",
    "        for part, info_images in zip(PARTS, distri):\n",
    "            print(part + \": \" + str(len(info_images)) + \" images is \" +\n",
    "                  str(len(info_images)/len(all_files)) + \"%\")\n",
    "            \n",
    "            # create directories for label\n",
    "            tsf.create_directory(os.path.join(\"./data\", part, label))\n",
    "            tsf.create_directory(os.path.join(\"./data\", part, label, 'recto'))\n",
    "            tsf.create_directory(os.path.join(\"./data\", part, label, 'verso'))\n",
    "\n",
    "            for _, row in info_images.iterrows():\n",
    "                # Get name of image\n",
    "                name_image = os.path.basename(row.image)\n",
    "                \n",
    "                # Create symbolic link of recto\n",
    "                os.symlink(row.image,\n",
    "                           os.path.join(\"./data\", part, label, 'recto',\n",
    "                                        name_image))\n",
    "                \n",
    "                # Create path of verso image\n",
    "                row.image = row.image.replace('recto', 'verso')\n",
    "                row.image = row.image.replace('Recto', 'Verso')\n",
    "\n",
    "                # Get name of image\n",
    "                name_image = os.path.basename(row.image)\n",
    "\n",
    "                # Create symbolic link of verso\n",
    "                os.symlink(row.image,\n",
    "                           os.path.join(\"./data\", part, label, 'verso',\n",
    "                                        name_image))\n",
    "                \n",
    "                                \n",
    "        \n",
    "        \n",
    "# Distribute typical dataset\n",
    "distribute(t_image_path)"
   ]
  }
 ],
 "metadata": {
  "kernelspec": {
   "display_name": "Python 3 (ipykernel)",
   "language": "python",
   "name": "python3"
  },
  "language_info": {
   "codemirror_mode": {
    "name": "ipython",
    "version": 3
   },
   "file_extension": ".py",
   "mimetype": "text/x-python",
   "name": "python",
   "nbconvert_exporter": "python",
   "pygments_lexer": "ipython3",
   "version": "3.8.10"
  }
 },
 "nbformat": 4,
 "nbformat_minor": 5
}
